{
 "cells": [
  {
   "cell_type": "code",
   "execution_count": 2,
   "metadata": {},
   "outputs": [],
   "source": [
    "#IMPORT LIBRARIES \n",
    "import numpy as np\n",
    "import pandas as pd\n",
    "import matplotlib.pyplot as plt\n",
    "import seaborn as sns\n",
    "#from sklearn.impute import SimpleImputer\n",
    "\n",
    "from sklearn.model_selection import train_test_split\n",
    "from sklearn.metrics import accuracy_score, recall_score, precision_score, f1_score, cohen_kappa_score\n",
    "from sklearn.compose import ColumnTransformer\n",
    "from sklearn.preprocessing import StandardScaler, OneHotEncoder, LabelEncoder\n",
    "\n",
    "from sklearn.linear_model import LogisticRegression\n",
    "from sklearn.model_selection import RandomizedSearchCV\n",
    "from sklearn.pipeline import Pipeline\n",
    "\n",
    "from imblearn.over_sampling import SMOTE\n",
    "from imblearn.under_sampling import RandomUnderSampler\n",
    "\n",
    "\n",
    "#from mpl_toolkits.basemap import Basemap\n",
    "#from sklearn.feature_selection import mutual_info_classif\n"
   ]
  },
  {
   "cell_type": "code",
   "execution_count": 3,
   "metadata": {},
   "outputs": [
    {
     "name": "stdout",
     "output_type": "stream",
     "text": [
      "Original training set shape: (1100702, 23), (1100702,)\n",
      "Resampled training set shape: (69993, 23), (69993,)\n"
     ]
    }
   ],
   "source": [
    "#LOADING DATA\n",
    "data = pd.read_csv('credit_card_transactions.csv')\n",
    "data = data.dropna()\n",
    "\n",
    "x = data.drop(columns=['is_fraud'])\n",
    "y = data['is_fraud']\n",
    "\n",
    "# Set a custom sampling strategy\n",
    "# Example: Maintain 2:1 ratio of majority to minority samples\n",
    "# For instance, if minority class has 100 samples, we want majority class to have 200 samples\n",
    "majority_count = y.value_counts().max()  # Total samples in the majority class\n",
    "minority_count = y.value_counts().min()  # Total samples in the minority class\n",
    "\n",
    "print(f\"Original training set shape: {x.shape}, {y.shape}\")\n",
    "\n",
    "# Define sampling_strategy based on the desired ratio\n",
    "desired_majority_count = 10 * minority_count  # Desired majority samples (2:1 ratio)\n",
    "sampling_strategy = {0: desired_majority_count, 1: minority_count}  # Map class to desired counts\n",
    "\n",
    "# Apply RandomUnderSampler with the custom strategy\n",
    "rus = RandomUnderSampler(sampling_strategy=sampling_strategy, random_state=42)\n",
    "x, y = rus.fit_resample(x, y)\n",
    "\n",
    "# Check the shape of the new training set\n",
    "print(f\"Resampled training set shape: {x.shape}, {y.shape}\")\n"
   ]
  },
  {
   "cell_type": "code",
   "execution_count": 4,
   "metadata": {},
   "outputs": [],
   "source": [
    "#FEATURE ENGINEERING AND PREPROCESSING\n",
    "categorical_features = ['merchant', 'category', 'gender', 'city', 'state', 'job']\n",
    "numeric_features = ['amt', 'city_pop']\n",
    "\n",
    "# Preprocessor: OneHotEncoding categorical variables and scaling numeric ones\n",
    "preprocessor = ColumnTransformer(\n",
    "    transformers=[\n",
    "        ('cat', OneHotEncoder(handle_unknown='ignore'), categorical_features), \n",
    "        ('num', StandardScaler(), numeric_features)\n",
    "    ])"
   ]
  },
  {
   "cell_type": "code",
   "execution_count": 5,
   "metadata": {},
   "outputs": [],
   "source": [
    "# Preprocessing pipeline (without SMOTE)\n",
    "pipeline = Pipeline(steps=[('preprocessor', preprocessor)])"
   ]
  },
  {
   "cell_type": "code",
   "execution_count": 6,
   "metadata": {},
   "outputs": [
    {
     "name": "stderr",
     "output_type": "stream",
     "text": [
      "/Users/mariacarolina/opt/anaconda3/envs/pyfume_fuzzy/lib/python3.12/site-packages/sklearn/linear_model/_sag.py:349: ConvergenceWarning: The max_iter was reached which means the coef_ did not converge\n",
      "  warnings.warn(\n",
      "/Users/mariacarolina/opt/anaconda3/envs/pyfume_fuzzy/lib/python3.12/site-packages/sklearn/linear_model/_sag.py:349: ConvergenceWarning: The max_iter was reached which means the coef_ did not converge\n",
      "  warnings.warn(\n",
      "/Users/mariacarolina/opt/anaconda3/envs/pyfume_fuzzy/lib/python3.12/site-packages/sklearn/linear_model/_sag.py:349: ConvergenceWarning: The max_iter was reached which means the coef_ did not converge\n",
      "  warnings.warn(\n",
      "/Users/mariacarolina/opt/anaconda3/envs/pyfume_fuzzy/lib/python3.12/site-packages/sklearn/linear_model/_sag.py:349: ConvergenceWarning: The max_iter was reached which means the coef_ did not converge\n",
      "  warnings.warn(\n",
      "/Users/mariacarolina/opt/anaconda3/envs/pyfume_fuzzy/lib/python3.12/site-packages/sklearn/linear_model/_sag.py:349: ConvergenceWarning: The max_iter was reached which means the coef_ did not converge\n",
      "  warnings.warn(\n",
      "/Users/mariacarolina/opt/anaconda3/envs/pyfume_fuzzy/lib/python3.12/site-packages/sklearn/linear_model/_sag.py:349: ConvergenceWarning: The max_iter was reached which means the coef_ did not converge\n",
      "  warnings.warn(\n",
      "/Users/mariacarolina/opt/anaconda3/envs/pyfume_fuzzy/lib/python3.12/site-packages/sklearn/linear_model/_sag.py:349: ConvergenceWarning: The max_iter was reached which means the coef_ did not converge\n",
      "  warnings.warn(\n",
      "/Users/mariacarolina/opt/anaconda3/envs/pyfume_fuzzy/lib/python3.12/site-packages/sklearn/linear_model/_sag.py:349: ConvergenceWarning: The max_iter was reached which means the coef_ did not converge\n",
      "  warnings.warn(\n",
      "/Users/mariacarolina/opt/anaconda3/envs/pyfume_fuzzy/lib/python3.12/site-packages/sklearn/linear_model/_sag.py:349: ConvergenceWarning: The max_iter was reached which means the coef_ did not converge\n",
      "  warnings.warn(\n",
      "/Users/mariacarolina/opt/anaconda3/envs/pyfume_fuzzy/lib/python3.12/site-packages/sklearn/linear_model/_sag.py:349: ConvergenceWarning: The max_iter was reached which means the coef_ did not converge\n",
      "  warnings.warn(\n",
      "/Users/mariacarolina/opt/anaconda3/envs/pyfume_fuzzy/lib/python3.12/site-packages/sklearn/linear_model/_sag.py:349: ConvergenceWarning: The max_iter was reached which means the coef_ did not converge\n",
      "  warnings.warn(\n",
      "/Users/mariacarolina/opt/anaconda3/envs/pyfume_fuzzy/lib/python3.12/site-packages/numpy/ma/core.py:2820: RuntimeWarning: invalid value encountered in cast\n",
      "  _data = np.array(data, dtype=dtype, copy=copy,\n"
     ]
    },
    {
     "name": "stdout",
     "output_type": "stream",
     "text": [
      "Best Parameters for Logistic Regression: {'solver': 'liblinear', 'max_iter': 1000, 'C': 100}\n",
      "Accuracy: 0.890\n",
      "Recall: 0.786\n",
      "Precision Score: 0.445\n",
      "F1-Score: 0.569\n",
      "Kappa Score: 0.511\n"
     ]
    }
   ],
   "source": [
    "#TRAIN AND TEST SLIP\n",
    "x_train, x_test, y_train, y_test = train_test_split(x, y, test_size = 0.3, random_state = 42)\n",
    "\n",
    "#LOGISTIC REGRESSION\n",
    "# Preprocess the data\n",
    "x_train_preprocessed = pipeline.fit_transform(x_train)\n",
    "x_test_preprocessed = pipeline.transform(x_test)\n",
    "\n",
    "# Apply SMOTE separately after preprocessing\n",
    "smote = SMOTE(random_state=42)\n",
    "x_train_resampled, y_train_resampled = smote.fit_resample(x_train_preprocessed, y_train)\n",
    "\n",
    "# Define the parameter distribution\n",
    "param_dist_logreg = {\n",
    "    'C': [0.001, 0.01, 0.1, 1, 10, 100],\n",
    "    'solver': ['liblinear', 'saga', 'lbfgs'],\n",
    "    'max_iter': [500, 1000, 2000]\n",
    "}\n",
    "\n",
    "# Initialize LogisticRegression\n",
    "logreg = LogisticRegression(random_state=42)\n",
    "\n",
    "# Use RandomizedSearchCV to search for best parameters\n",
    "random_search_logreg = RandomizedSearchCV(\n",
    "    logreg, param_distributions=param_dist_logreg, n_iter=10, cv=5, random_state=42, n_jobs=-1\n",
    ")\n",
    "\n",
    "# Fit the model on training data\n",
    "random_search_logreg.fit(x_train_resampled, y_train_resampled)\n",
    "\n",
    "# Print the best parameters\n",
    "print(\"Best Parameters for Logistic Regression:\", random_search_logreg.best_params_)\n",
    "\n",
    "# Use the best estimator for predictions\n",
    "best_logreg = random_search_logreg.best_estimator_\n",
    "y_pred = best_logreg.predict(x_test_preprocessed)\n",
    "\n",
    "acc_score = accuracy_score(y_test, y_pred)\n",
    "print(\"Accuracy: {:.3f}\".format(acc_score))\n",
    "rec_score = recall_score(y_test, y_pred)\n",
    "print(\"Recall: {:.3f}\".format(rec_score))\n",
    "prec_score = precision_score(y_test, y_pred)\n",
    "print(\"Precision Score: {:.3f}\".format(prec_score))\n",
    "F1_score = f1_score(y_test, y_pred)\n",
    "print(\"F1-Score: {:.3f}\".format(F1_score))\n",
    "kappa = cohen_kappa_score(y_test, y_pred)\n",
    "print(\"Kappa Score: {:.3f}\".format(kappa))"
   ]
  }
 ],
 "metadata": {
  "kernelspec": {
   "display_name": "pyfume_fuzzy",
   "language": "python",
   "name": "python3"
  },
  "language_info": {
   "codemirror_mode": {
    "name": "ipython",
    "version": 3
   },
   "file_extension": ".py",
   "mimetype": "text/x-python",
   "name": "python",
   "nbconvert_exporter": "python",
   "pygments_lexer": "ipython3",
   "version": "3.12.5"
  }
 },
 "nbformat": 4,
 "nbformat_minor": 2
}
