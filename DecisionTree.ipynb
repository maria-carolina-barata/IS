{
 "cells": [
  {
   "cell_type": "code",
   "execution_count": 1,
   "metadata": {},
   "outputs": [],
   "source": [
    "#IMPORT LIBRARIES \n",
    "import numpy as np\n",
    "import pandas as pd\n",
    "import matplotlib.pyplot as plt\n",
    "import seaborn as sns\n",
    "#from sklearn.impute import SimpleImputer\n",
    "\n",
    "from sklearn.model_selection import train_test_split\n",
    "from sklearn.metrics import accuracy_score, recall_score, precision_score, f1_score, cohen_kappa_score\n",
    "from sklearn.compose import ColumnTransformer\n",
    "from sklearn.preprocessing import StandardScaler, OneHotEncoder, LabelEncoder\n",
    "\n",
    "from sklearn.tree import DecisionTreeClassifier\n",
    "from sklearn.pipeline import Pipeline\n",
    "\n",
    "from imblearn.over_sampling import SMOTE\n",
    "from imblearn.under_sampling import RandomUnderSampler"
   ]
  },
  {
   "cell_type": "code",
   "execution_count": 2,
   "metadata": {},
   "outputs": [],
   "source": [
    "#LOADING DATA\n",
    "data = pd.read_csv('credit_card_transactions.csv')\n",
    "data = data.dropna()\n",
    "\n",
    "x = data.drop(columns=['is_fraud'])\n",
    "y = data['is_fraud']\n",
    "\n",
    "# Set a custom sampling strategy\n",
    "# Example: Maintain 2:1 ratio of majority to minority samples\n",
    "# For instance, if minority class has 100 samples, we want majority class to have 200 samples\n",
    "majority_count = y.value_counts().max()  # Total samples in the majority class\n",
    "minority_count = y.value_counts().min()  # Total samples in the minority class\n",
    "\n",
    "# Define sampling_strategy based on the desired ratio\n",
    "desired_majority_count = 10 * minority_count  # Desired majority samples (2:1 ratio)\n",
    "sampling_strategy = {0: desired_majority_count, 1: minority_count}  # Map class to desired counts\n",
    "\n",
    "# Apply RandomUnderSampler with the custom strategy\n",
    "rus = RandomUnderSampler(sampling_strategy=sampling_strategy, random_state=42)\n",
    "x, y = rus.fit_resample(x, y)"
   ]
  },
  {
   "cell_type": "code",
   "execution_count": 3,
   "metadata": {},
   "outputs": [],
   "source": [
    "#FEATURE ENGINEERING AND PREPROCESSING\n",
    "categorical_features = ['merchant', 'category', 'gender', 'city', 'state', 'job']\n",
    "numeric_features = ['amt', 'city_pop']\n",
    "\n",
    "# Preprocessor: OneHotEncoding categorical variables and scaling numeric ones\n",
    "preprocessor = ColumnTransformer(\n",
    "    transformers=[\n",
    "        ('cat', OneHotEncoder(handle_unknown='ignore'), categorical_features), \n",
    "        ('num', StandardScaler(), numeric_features)\n",
    "    ])"
   ]
  },
  {
   "cell_type": "code",
   "execution_count": 4,
   "metadata": {},
   "outputs": [],
   "source": [
    "# Preprocessing pipeline (without SMOTE)\n",
    "pipeline = Pipeline(steps=[('preprocessor', preprocessor)])\n",
    "\n",
    "#TRAIN AND TEST SLIP\n",
    "x_train, x_test, y_train, y_test = train_test_split(x, y, test_size = 0.3, random_state = 42)\n",
    "\n",
    "# Preprocess the data\n",
    "x_train_preprocessed = pipeline.fit_transform(x_train)\n",
    "x_test_preprocessed = pipeline.transform(x_test)\n",
    "\n",
    "# Apply SMOTE separately after preprocessing\n",
    "smote = SMOTE(random_state=42)\n",
    "x_train_resampled, y_train_resampled = smote.fit_resample(x_train_preprocessed, y_train)"
   ]
  },
  {
   "cell_type": "code",
   "execution_count": 5,
   "metadata": {},
   "outputs": [],
   "source": [
    "# DECISION TREE CLASSIFIER\n",
    "tree = DecisionTreeClassifier(random_state=42)\n",
    "\n",
    "# Train the model on the resampled data\n",
    "tree.fit(x_train_resampled, y_train_resampled)\n",
    "\n",
    "# Make predictions\n",
    "y_pred = tree.predict(x_test_preprocessed)"
   ]
  },
  {
   "cell_type": "code",
   "execution_count": 6,
   "metadata": {},
   "outputs": [
    {
     "name": "stdout",
     "output_type": "stream",
     "text": [
      "Accuracy: 0.978\n",
      "Recall: 0.893\n",
      "Precision Score: 0.870\n",
      "F1-Score: 0.881\n",
      "Kappa Score: 0.869\n"
     ]
    }
   ],
   "source": [
    "acc_score = accuracy_score(y_test, y_pred)\n",
    "print(\"Accuracy: {:.3f}\".format(acc_score))\n",
    "rec_score = recall_score(y_test, y_pred)\n",
    "print(\"Recall: {:.3f}\".format(rec_score))\n",
    "prec_score = precision_score(y_test, y_pred)\n",
    "print(\"Precision Score: {:.3f}\".format(prec_score))\n",
    "F1_score = f1_score(y_test, y_pred)\n",
    "print(\"F1-Score: {:.3f}\".format(F1_score))\n",
    "kappa = cohen_kappa_score(y_test, y_pred)\n",
    "print(\"Kappa Score: {:.3f}\".format(kappa))"
   ]
  }
 ],
 "metadata": {
  "kernelspec": {
   "display_name": "pyfume_fuzzy",
   "language": "python",
   "name": "python3"
  },
  "language_info": {
   "codemirror_mode": {
    "name": "ipython",
    "version": 3
   },
   "file_extension": ".py",
   "mimetype": "text/x-python",
   "name": "python",
   "nbconvert_exporter": "python",
   "pygments_lexer": "ipython3",
   "version": "3.12.5"
  }
 },
 "nbformat": 4,
 "nbformat_minor": 2
}
